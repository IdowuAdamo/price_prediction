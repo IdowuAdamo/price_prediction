{
 "cells": [
  {
   "cell_type": "code",
   "execution_count": 1,
   "id": "0378b3e8",
   "metadata": {
    "_cell_guid": "b1076dfc-b9ad-4769-8c92-a6c4dae69d19",
    "_uuid": "8f2839f25d086af736a60e9eeb907d3b93b6e0e5",
    "execution": {
     "iopub.execute_input": "2023-08-24T21:48:07.573689Z",
     "iopub.status.busy": "2023-08-24T21:48:07.572731Z",
     "iopub.status.idle": "2023-08-24T21:48:07.592324Z",
     "shell.execute_reply": "2023-08-24T21:48:07.591260Z"
    },
    "papermill": {
     "duration": 0.031794,
     "end_time": "2023-08-24T21:48:07.595218",
     "exception": false,
     "start_time": "2023-08-24T21:48:07.563424",
     "status": "completed"
    },
    "tags": []
   },
   "outputs": [
    {
     "name": "stdout",
     "output_type": "stream",
     "text": [
      "/kaggle/input/diamondscsv/diamonds.csv\n"
     ]
    }
   ],
   "source": [
    "# This Python 3 environment comes with many helpful analytics libraries installed\n",
    "# It is defined by the kaggle/python Docker image: https://github.com/kaggle/docker-python\n",
    "# For example, here's several helpful packages to load\n",
    "\n",
    "import numpy as np # linear algebra\n",
    "import pandas as pd # data processing, CSV file I/O (e.g. pd.read_csv)\n",
    "\n",
    "# Input data files are available in the read-only \"../input/\" directory\n",
    "# For example, running this (by clicking run or pressing Shift+Enter) will list all files under the input directory\n",
    "\n",
    "import os\n",
    "for dirname, _, filenames in os.walk('/kaggle/input'):\n",
    "    for filename in filenames:\n",
    "        print(os.path.join(dirname, filename))\n",
    "\n",
    "# You can write up to 20GB to the current directory (/kaggle/working/) that gets preserved as output when you create a version using \"Save & Run All\" \n",
    "# You can also write temporary files to /kaggle/temp/, but they won't be saved outside of the current session"
   ]
  },
  {
   "cell_type": "code",
   "execution_count": 2,
   "id": "85f4b074",
   "metadata": {
    "execution": {
     "iopub.execute_input": "2023-08-24T21:48:07.607438Z",
     "iopub.status.busy": "2023-08-24T21:48:07.606851Z",
     "iopub.status.idle": "2023-08-24T21:48:07.727499Z",
     "shell.execute_reply": "2023-08-24T21:48:07.726691Z"
    },
    "papermill": {
     "duration": 0.129573,
     "end_time": "2023-08-24T21:48:07.730012",
     "exception": false,
     "start_time": "2023-08-24T21:48:07.600439",
     "status": "completed"
    },
    "tags": []
   },
   "outputs": [],
   "source": [
    "# loading the dataset into a DataFrame, 'index_col=0' is to avoid a repetition of the index column in our DataFrame\n",
    "url = '/kaggle/input/diamondscsv/diamonds.csv'\n",
    "\n",
    "diamonds_df = pd.read_csv(url, index_col=0)"
   ]
  },
  {
   "cell_type": "code",
   "execution_count": 3,
   "id": "67a12372",
   "metadata": {
    "execution": {
     "iopub.execute_input": "2023-08-24T21:48:07.742872Z",
     "iopub.status.busy": "2023-08-24T21:48:07.741781Z",
     "iopub.status.idle": "2023-08-24T21:48:07.770191Z",
     "shell.execute_reply": "2023-08-24T21:48:07.768576Z"
    },
    "papermill": {
     "duration": 0.037664,
     "end_time": "2023-08-24T21:48:07.772935",
     "exception": false,
     "start_time": "2023-08-24T21:48:07.735271",
     "status": "completed"
    },
    "tags": []
   },
   "outputs": [
    {
     "data": {
      "text/html": [
       "<div>\n",
       "<style scoped>\n",
       "    .dataframe tbody tr th:only-of-type {\n",
       "        vertical-align: middle;\n",
       "    }\n",
       "\n",
       "    .dataframe tbody tr th {\n",
       "        vertical-align: top;\n",
       "    }\n",
       "\n",
       "    .dataframe thead th {\n",
       "        text-align: right;\n",
       "    }\n",
       "</style>\n",
       "<table border=\"1\" class=\"dataframe\">\n",
       "  <thead>\n",
       "    <tr style=\"text-align: right;\">\n",
       "      <th></th>\n",
       "      <th>carat</th>\n",
       "      <th>cut</th>\n",
       "      <th>color</th>\n",
       "      <th>clarity</th>\n",
       "      <th>depth</th>\n",
       "      <th>table</th>\n",
       "      <th>price</th>\n",
       "      <th>x</th>\n",
       "      <th>y</th>\n",
       "      <th>z</th>\n",
       "    </tr>\n",
       "  </thead>\n",
       "  <tbody>\n",
       "    <tr>\n",
       "      <th>43585</th>\n",
       "      <td>0.50</td>\n",
       "      <td>Fair</td>\n",
       "      <td>D</td>\n",
       "      <td>VS2</td>\n",
       "      <td>63.7</td>\n",
       "      <td>57.0</td>\n",
       "      <td>1431</td>\n",
       "      <td>5.05</td>\n",
       "      <td>4.90</td>\n",
       "      <td>3.17</td>\n",
       "    </tr>\n",
       "    <tr>\n",
       "      <th>50060</th>\n",
       "      <td>0.57</td>\n",
       "      <td>Ideal</td>\n",
       "      <td>E</td>\n",
       "      <td>VS2</td>\n",
       "      <td>61.0</td>\n",
       "      <td>54.0</td>\n",
       "      <td>2202</td>\n",
       "      <td>5.39</td>\n",
       "      <td>5.43</td>\n",
       "      <td>3.30</td>\n",
       "    </tr>\n",
       "    <tr>\n",
       "      <th>51268</th>\n",
       "      <td>0.70</td>\n",
       "      <td>Fair</td>\n",
       "      <td>D</td>\n",
       "      <td>SI2</td>\n",
       "      <td>58.1</td>\n",
       "      <td>60.0</td>\n",
       "      <td>2358</td>\n",
       "      <td>5.79</td>\n",
       "      <td>5.82</td>\n",
       "      <td>3.37</td>\n",
       "    </tr>\n",
       "    <tr>\n",
       "      <th>51317</th>\n",
       "      <td>0.31</td>\n",
       "      <td>Good</td>\n",
       "      <td>G</td>\n",
       "      <td>VS2</td>\n",
       "      <td>63.1</td>\n",
       "      <td>56.0</td>\n",
       "      <td>544</td>\n",
       "      <td>4.31</td>\n",
       "      <td>4.37</td>\n",
       "      <td>2.74</td>\n",
       "    </tr>\n",
       "    <tr>\n",
       "      <th>12620</th>\n",
       "      <td>1.00</td>\n",
       "      <td>Premium</td>\n",
       "      <td>F</td>\n",
       "      <td>SI1</td>\n",
       "      <td>58.6</td>\n",
       "      <td>58.0</td>\n",
       "      <td>5292</td>\n",
       "      <td>6.56</td>\n",
       "      <td>6.52</td>\n",
       "      <td>3.83</td>\n",
       "    </tr>\n",
       "  </tbody>\n",
       "</table>\n",
       "</div>"
      ],
      "text/plain": [
       "       carat      cut color clarity  depth  table  price     x     y     z\n",
       "43585   0.50     Fair     D     VS2   63.7   57.0   1431  5.05  4.90  3.17\n",
       "50060   0.57    Ideal     E     VS2   61.0   54.0   2202  5.39  5.43  3.30\n",
       "51268   0.70     Fair     D     SI2   58.1   60.0   2358  5.79  5.82  3.37\n",
       "51317   0.31     Good     G     VS2   63.1   56.0    544  4.31  4.37  2.74\n",
       "12620   1.00  Premium     F     SI1   58.6   58.0   5292  6.56  6.52  3.83"
      ]
     },
     "execution_count": 3,
     "metadata": {},
     "output_type": "execute_result"
    }
   ],
   "source": [
    "# diaplaying five random rows of the DataFrame, this gives a better view of the DataFrame\n",
    "diamonds_df.sample(5)"
   ]
  },
  {
   "cell_type": "code",
   "execution_count": 4,
   "id": "e87ae086",
   "metadata": {
    "execution": {
     "iopub.execute_input": "2023-08-24T21:48:07.785746Z",
     "iopub.status.busy": "2023-08-24T21:48:07.785026Z",
     "iopub.status.idle": "2023-08-24T21:48:07.792082Z",
     "shell.execute_reply": "2023-08-24T21:48:07.790893Z"
    },
    "papermill": {
     "duration": 0.015957,
     "end_time": "2023-08-24T21:48:07.794501",
     "exception": false,
     "start_time": "2023-08-24T21:48:07.778544",
     "status": "completed"
    },
    "tags": []
   },
   "outputs": [
    {
     "data": {
      "text/plain": [
       "(53940, 10)"
      ]
     },
     "execution_count": 4,
     "metadata": {},
     "output_type": "execute_result"
    }
   ],
   "source": [
    "# displays number of rows and columns in the DataFrame\n",
    "diamonds_df.shape"
   ]
  },
  {
   "cell_type": "code",
   "execution_count": 5,
   "id": "c6317e1b",
   "metadata": {
    "execution": {
     "iopub.execute_input": "2023-08-24T21:48:07.807481Z",
     "iopub.status.busy": "2023-08-24T21:48:07.806390Z",
     "iopub.status.idle": "2023-08-24T21:48:07.848344Z",
     "shell.execute_reply": "2023-08-24T21:48:07.846929Z"
    },
    "papermill": {
     "duration": 0.050581,
     "end_time": "2023-08-24T21:48:07.850451",
     "exception": false,
     "start_time": "2023-08-24T21:48:07.799870",
     "status": "completed"
    },
    "tags": []
   },
   "outputs": [
    {
     "name": "stdout",
     "output_type": "stream",
     "text": [
      "<class 'pandas.core.frame.DataFrame'>\n",
      "Int64Index: 53940 entries, 1 to 53940\n",
      "Data columns (total 10 columns):\n",
      " #   Column   Non-Null Count  Dtype  \n",
      "---  ------   --------------  -----  \n",
      " 0   carat    53940 non-null  float64\n",
      " 1   cut      53940 non-null  object \n",
      " 2   color    53940 non-null  object \n",
      " 3   clarity  53940 non-null  object \n",
      " 4   depth    53940 non-null  float64\n",
      " 5   table    53940 non-null  float64\n",
      " 6   price    53940 non-null  int64  \n",
      " 7   x        53940 non-null  float64\n",
      " 8   y        53940 non-null  float64\n",
      " 9   z        53940 non-null  float64\n",
      "dtypes: float64(6), int64(1), object(3)\n",
      "memory usage: 4.5+ MB\n"
     ]
    }
   ],
   "source": [
    "diamonds_df.info()"
   ]
  },
  {
   "cell_type": "code",
   "execution_count": 6,
   "id": "b60ff312",
   "metadata": {
    "execution": {
     "iopub.execute_input": "2023-08-24T21:48:07.863202Z",
     "iopub.status.busy": "2023-08-24T21:48:07.862852Z",
     "iopub.status.idle": "2023-08-24T21:48:07.914469Z",
     "shell.execute_reply": "2023-08-24T21:48:07.913683Z"
    },
    "papermill": {
     "duration": 0.061025,
     "end_time": "2023-08-24T21:48:07.916935",
     "exception": false,
     "start_time": "2023-08-24T21:48:07.855910",
     "status": "completed"
    },
    "tags": []
   },
   "outputs": [
    {
     "data": {
      "text/html": [
       "<div>\n",
       "<style scoped>\n",
       "    .dataframe tbody tr th:only-of-type {\n",
       "        vertical-align: middle;\n",
       "    }\n",
       "\n",
       "    .dataframe tbody tr th {\n",
       "        vertical-align: top;\n",
       "    }\n",
       "\n",
       "    .dataframe thead th {\n",
       "        text-align: right;\n",
       "    }\n",
       "</style>\n",
       "<table border=\"1\" class=\"dataframe\">\n",
       "  <thead>\n",
       "    <tr style=\"text-align: right;\">\n",
       "      <th></th>\n",
       "      <th>carat</th>\n",
       "      <th>depth</th>\n",
       "      <th>table</th>\n",
       "      <th>price</th>\n",
       "      <th>x</th>\n",
       "      <th>y</th>\n",
       "      <th>z</th>\n",
       "    </tr>\n",
       "  </thead>\n",
       "  <tbody>\n",
       "    <tr>\n",
       "      <th>count</th>\n",
       "      <td>53940.000000</td>\n",
       "      <td>53940.000000</td>\n",
       "      <td>53940.000000</td>\n",
       "      <td>53940.000000</td>\n",
       "      <td>53940.000000</td>\n",
       "      <td>53940.000000</td>\n",
       "      <td>53940.000000</td>\n",
       "    </tr>\n",
       "    <tr>\n",
       "      <th>mean</th>\n",
       "      <td>0.797940</td>\n",
       "      <td>61.749405</td>\n",
       "      <td>57.457184</td>\n",
       "      <td>3932.799722</td>\n",
       "      <td>5.731157</td>\n",
       "      <td>5.734526</td>\n",
       "      <td>3.538734</td>\n",
       "    </tr>\n",
       "    <tr>\n",
       "      <th>std</th>\n",
       "      <td>0.474011</td>\n",
       "      <td>1.432621</td>\n",
       "      <td>2.234491</td>\n",
       "      <td>3989.439738</td>\n",
       "      <td>1.121761</td>\n",
       "      <td>1.142135</td>\n",
       "      <td>0.705699</td>\n",
       "    </tr>\n",
       "    <tr>\n",
       "      <th>min</th>\n",
       "      <td>0.200000</td>\n",
       "      <td>43.000000</td>\n",
       "      <td>43.000000</td>\n",
       "      <td>326.000000</td>\n",
       "      <td>0.000000</td>\n",
       "      <td>0.000000</td>\n",
       "      <td>0.000000</td>\n",
       "    </tr>\n",
       "    <tr>\n",
       "      <th>25%</th>\n",
       "      <td>0.400000</td>\n",
       "      <td>61.000000</td>\n",
       "      <td>56.000000</td>\n",
       "      <td>950.000000</td>\n",
       "      <td>4.710000</td>\n",
       "      <td>4.720000</td>\n",
       "      <td>2.910000</td>\n",
       "    </tr>\n",
       "    <tr>\n",
       "      <th>50%</th>\n",
       "      <td>0.700000</td>\n",
       "      <td>61.800000</td>\n",
       "      <td>57.000000</td>\n",
       "      <td>2401.000000</td>\n",
       "      <td>5.700000</td>\n",
       "      <td>5.710000</td>\n",
       "      <td>3.530000</td>\n",
       "    </tr>\n",
       "    <tr>\n",
       "      <th>75%</th>\n",
       "      <td>1.040000</td>\n",
       "      <td>62.500000</td>\n",
       "      <td>59.000000</td>\n",
       "      <td>5324.250000</td>\n",
       "      <td>6.540000</td>\n",
       "      <td>6.540000</td>\n",
       "      <td>4.040000</td>\n",
       "    </tr>\n",
       "    <tr>\n",
       "      <th>max</th>\n",
       "      <td>5.010000</td>\n",
       "      <td>79.000000</td>\n",
       "      <td>95.000000</td>\n",
       "      <td>18823.000000</td>\n",
       "      <td>10.740000</td>\n",
       "      <td>58.900000</td>\n",
       "      <td>31.800000</td>\n",
       "    </tr>\n",
       "  </tbody>\n",
       "</table>\n",
       "</div>"
      ],
      "text/plain": [
       "              carat         depth         table         price             x  \\\n",
       "count  53940.000000  53940.000000  53940.000000  53940.000000  53940.000000   \n",
       "mean       0.797940     61.749405     57.457184   3932.799722      5.731157   \n",
       "std        0.474011      1.432621      2.234491   3989.439738      1.121761   \n",
       "min        0.200000     43.000000     43.000000    326.000000      0.000000   \n",
       "25%        0.400000     61.000000     56.000000    950.000000      4.710000   \n",
       "50%        0.700000     61.800000     57.000000   2401.000000      5.700000   \n",
       "75%        1.040000     62.500000     59.000000   5324.250000      6.540000   \n",
       "max        5.010000     79.000000     95.000000  18823.000000     10.740000   \n",
       "\n",
       "                  y             z  \n",
       "count  53940.000000  53940.000000  \n",
       "mean       5.734526      3.538734  \n",
       "std        1.142135      0.705699  \n",
       "min        0.000000      0.000000  \n",
       "25%        4.720000      2.910000  \n",
       "50%        5.710000      3.530000  \n",
       "75%        6.540000      4.040000  \n",
       "max       58.900000     31.800000  "
      ]
     },
     "execution_count": 6,
     "metadata": {},
     "output_type": "execute_result"
    }
   ],
   "source": [
    "# displays statistical summary of numerical columns in the DataFrame\n",
    "diamonds_df.describe()"
   ]
  },
  {
   "cell_type": "markdown",
   "id": "a0611c39",
   "metadata": {
    "papermill": {
     "duration": 0.005457,
     "end_time": "2023-08-24T21:48:07.928709",
     "exception": false,
     "start_time": "2023-08-24T21:48:07.923252",
     "status": "completed"
    },
    "tags": []
   },
   "source": [
    "# Data Cleaning"
   ]
  },
  {
   "cell_type": "code",
   "execution_count": 7,
   "id": "61360a48",
   "metadata": {
    "execution": {
     "iopub.execute_input": "2023-08-24T21:48:07.945255Z",
     "iopub.status.busy": "2023-08-24T21:48:07.944938Z",
     "iopub.status.idle": "2023-08-24T21:48:07.954279Z",
     "shell.execute_reply": "2023-08-24T21:48:07.953548Z"
    },
    "papermill": {
     "duration": 0.019952,
     "end_time": "2023-08-24T21:48:07.956063",
     "exception": false,
     "start_time": "2023-08-24T21:48:07.936111",
     "status": "completed"
    },
    "tags": []
   },
   "outputs": [
    {
     "data": {
      "text/plain": [
       "array(['Ideal', 'Premium', 'Good', 'Very Good', 'Fair'], dtype=object)"
      ]
     },
     "execution_count": 7,
     "metadata": {},
     "output_type": "execute_result"
    }
   ],
   "source": [
    "diamonds_df.cut.unique()"
   ]
  },
  {
   "cell_type": "code",
   "execution_count": 8,
   "id": "002a03b8",
   "metadata": {
    "execution": {
     "iopub.execute_input": "2023-08-24T21:48:07.969123Z",
     "iopub.status.busy": "2023-08-24T21:48:07.968758Z",
     "iopub.status.idle": "2023-08-24T21:48:07.978505Z",
     "shell.execute_reply": "2023-08-24T21:48:07.977243Z"
    },
    "papermill": {
     "duration": 0.018851,
     "end_time": "2023-08-24T21:48:07.980728",
     "exception": false,
     "start_time": "2023-08-24T21:48:07.961877",
     "status": "completed"
    },
    "tags": []
   },
   "outputs": [
    {
     "data": {
      "text/plain": [
       "array(['E', 'I', 'J', 'H', 'F', 'G', 'D'], dtype=object)"
      ]
     },
     "execution_count": 8,
     "metadata": {},
     "output_type": "execute_result"
    }
   ],
   "source": [
    "diamonds_df.color.unique()"
   ]
  },
  {
   "cell_type": "code",
   "execution_count": 9,
   "id": "691cc9ed",
   "metadata": {
    "execution": {
     "iopub.execute_input": "2023-08-24T21:48:07.993709Z",
     "iopub.status.busy": "2023-08-24T21:48:07.993378Z",
     "iopub.status.idle": "2023-08-24T21:48:08.004288Z",
     "shell.execute_reply": "2023-08-24T21:48:08.002872Z"
    },
    "papermill": {
     "duration": 0.019733,
     "end_time": "2023-08-24T21:48:08.006390",
     "exception": false,
     "start_time": "2023-08-24T21:48:07.986657",
     "status": "completed"
    },
    "tags": []
   },
   "outputs": [
    {
     "data": {
      "text/plain": [
       "array(['SI2', 'SI1', 'VS1', 'VS2', 'VVS2', 'VVS1', 'I1', 'IF'],\n",
       "      dtype=object)"
      ]
     },
     "execution_count": 9,
     "metadata": {},
     "output_type": "execute_result"
    }
   ],
   "source": [
    "diamonds_df.clarity.unique()"
   ]
  },
  {
   "cell_type": "code",
   "execution_count": 10,
   "id": "ba034e49",
   "metadata": {
    "execution": {
     "iopub.execute_input": "2023-08-24T21:48:08.019715Z",
     "iopub.status.busy": "2023-08-24T21:48:08.019156Z",
     "iopub.status.idle": "2023-08-24T21:48:08.125595Z",
     "shell.execute_reply": "2023-08-24T21:48:08.124359Z"
    },
    "papermill": {
     "duration": 0.115783,
     "end_time": "2023-08-24T21:48:08.128003",
     "exception": false,
     "start_time": "2023-08-24T21:48:08.012220",
     "status": "completed"
    },
    "tags": []
   },
   "outputs": [],
   "source": [
    "# replacing the values in some columns with numerical values\n",
    "dict_1 = {'Ideal':5, 'Premium':4, 'Very Good':3, 'Good':2, 'Fair':1}\n",
    "diamonds_df.cut = diamonds_df.cut.replace(dict_1)\n",
    "\n",
    "dict_2 = {'D':7, 'E':6, 'F':5, 'G':4, 'H':3, 'I':2, 'J':1}\n",
    "diamonds_df.color = diamonds_df.color.replace(dict_2)\n",
    "\n",
    "dict_3 = {'IF':8, 'VVS1':7, 'VVS2':6, 'VS1':5, 'VS2':4, 'SI1':3, 'SI2':2, 'I1':1}\n",
    "diamonds_df.clarity = diamonds_df.clarity.replace(dict_3)\n",
    "\n",
    "# renaming the 'x','y','z' columns to more descriptive names\n",
    "diamonds_df = diamonds_df.rename(columns={'x':'length_mm', 'y':'width_mm', 'z':'depth_mm'})\n",
    "\n",
    "# removing dimensionless diamonds\n",
    "diamonds_df = (diamonds_df.drop(diamonds_df[diamonds_df['length_mm']==0].index))\n",
    "diamonds_df = (diamonds_df.drop(diamonds_df[diamonds_df['width_mm']==0].index))\n",
    "diamonds_df = (diamonds_df.drop(diamonds_df[diamonds_df['depth_mm']==0].index))\n",
    "\n",
    "# dropping duplicated rows in the DataFrame if there are any\n",
    "diamonds_df = diamonds_df.drop_duplicates()"
   ]
  },
  {
   "cell_type": "code",
   "execution_count": 11,
   "id": "7faf0a49",
   "metadata": {
    "execution": {
     "iopub.execute_input": "2023-08-24T21:48:08.141212Z",
     "iopub.status.busy": "2023-08-24T21:48:08.140916Z",
     "iopub.status.idle": "2023-08-24T21:48:08.188607Z",
     "shell.execute_reply": "2023-08-24T21:48:08.187289Z"
    },
    "papermill": {
     "duration": 0.057552,
     "end_time": "2023-08-24T21:48:08.191473",
     "exception": false,
     "start_time": "2023-08-24T21:48:08.133921",
     "status": "completed"
    },
    "tags": []
   },
   "outputs": [
    {
     "data": {
      "text/html": [
       "<div>\n",
       "<style scoped>\n",
       "    .dataframe tbody tr th:only-of-type {\n",
       "        vertical-align: middle;\n",
       "    }\n",
       "\n",
       "    .dataframe tbody tr th {\n",
       "        vertical-align: top;\n",
       "    }\n",
       "\n",
       "    .dataframe thead th {\n",
       "        text-align: right;\n",
       "    }\n",
       "</style>\n",
       "<table border=\"1\" class=\"dataframe\">\n",
       "  <thead>\n",
       "    <tr style=\"text-align: right;\">\n",
       "      <th></th>\n",
       "      <th>carat</th>\n",
       "      <th>cut</th>\n",
       "      <th>color</th>\n",
       "      <th>clarity</th>\n",
       "      <th>depth</th>\n",
       "      <th>table</th>\n",
       "      <th>price</th>\n",
       "      <th>length_mm</th>\n",
       "      <th>width_mm</th>\n",
       "      <th>depth_mm</th>\n",
       "    </tr>\n",
       "  </thead>\n",
       "  <tbody>\n",
       "    <tr>\n",
       "      <th>count</th>\n",
       "      <td>53775.000000</td>\n",
       "      <td>53775.000000</td>\n",
       "      <td>53775.000000</td>\n",
       "      <td>53775.000000</td>\n",
       "      <td>53775.000000</td>\n",
       "      <td>53775.000000</td>\n",
       "      <td>53775.000000</td>\n",
       "      <td>53775.000000</td>\n",
       "      <td>53775.000000</td>\n",
       "      <td>53775.000000</td>\n",
       "    </tr>\n",
       "    <tr>\n",
       "      <th>mean</th>\n",
       "      <td>0.797536</td>\n",
       "      <td>3.904231</td>\n",
       "      <td>4.406267</td>\n",
       "      <td>4.052366</td>\n",
       "      <td>61.748232</td>\n",
       "      <td>57.457806</td>\n",
       "      <td>3931.220288</td>\n",
       "      <td>5.731579</td>\n",
       "      <td>5.734909</td>\n",
       "      <td>3.539964</td>\n",
       "    </tr>\n",
       "    <tr>\n",
       "      <th>std</th>\n",
       "      <td>0.473169</td>\n",
       "      <td>1.116097</td>\n",
       "      <td>1.701271</td>\n",
       "      <td>1.646733</td>\n",
       "      <td>1.429639</td>\n",
       "      <td>2.233257</td>\n",
       "      <td>3985.918716</td>\n",
       "      <td>1.118611</td>\n",
       "      <td>1.139451</td>\n",
       "      <td>0.702017</td>\n",
       "    </tr>\n",
       "    <tr>\n",
       "      <th>min</th>\n",
       "      <td>0.200000</td>\n",
       "      <td>1.000000</td>\n",
       "      <td>1.000000</td>\n",
       "      <td>1.000000</td>\n",
       "      <td>43.000000</td>\n",
       "      <td>43.000000</td>\n",
       "      <td>326.000000</td>\n",
       "      <td>3.730000</td>\n",
       "      <td>3.680000</td>\n",
       "      <td>1.070000</td>\n",
       "    </tr>\n",
       "    <tr>\n",
       "      <th>25%</th>\n",
       "      <td>0.400000</td>\n",
       "      <td>3.000000</td>\n",
       "      <td>3.000000</td>\n",
       "      <td>3.000000</td>\n",
       "      <td>61.000000</td>\n",
       "      <td>56.000000</td>\n",
       "      <td>951.000000</td>\n",
       "      <td>4.710000</td>\n",
       "      <td>4.720000</td>\n",
       "      <td>2.910000</td>\n",
       "    </tr>\n",
       "    <tr>\n",
       "      <th>50%</th>\n",
       "      <td>0.700000</td>\n",
       "      <td>4.000000</td>\n",
       "      <td>4.000000</td>\n",
       "      <td>4.000000</td>\n",
       "      <td>61.800000</td>\n",
       "      <td>57.000000</td>\n",
       "      <td>2401.000000</td>\n",
       "      <td>5.700000</td>\n",
       "      <td>5.710000</td>\n",
       "      <td>3.530000</td>\n",
       "    </tr>\n",
       "    <tr>\n",
       "      <th>75%</th>\n",
       "      <td>1.040000</td>\n",
       "      <td>5.000000</td>\n",
       "      <td>6.000000</td>\n",
       "      <td>5.000000</td>\n",
       "      <td>62.500000</td>\n",
       "      <td>59.000000</td>\n",
       "      <td>5324.000000</td>\n",
       "      <td>6.540000</td>\n",
       "      <td>6.540000</td>\n",
       "      <td>4.030000</td>\n",
       "    </tr>\n",
       "    <tr>\n",
       "      <th>max</th>\n",
       "      <td>5.010000</td>\n",
       "      <td>5.000000</td>\n",
       "      <td>7.000000</td>\n",
       "      <td>8.000000</td>\n",
       "      <td>79.000000</td>\n",
       "      <td>95.000000</td>\n",
       "      <td>18823.000000</td>\n",
       "      <td>10.740000</td>\n",
       "      <td>58.900000</td>\n",
       "      <td>31.800000</td>\n",
       "    </tr>\n",
       "  </tbody>\n",
       "</table>\n",
       "</div>"
      ],
      "text/plain": [
       "              carat           cut         color       clarity         depth  \\\n",
       "count  53775.000000  53775.000000  53775.000000  53775.000000  53775.000000   \n",
       "mean       0.797536      3.904231      4.406267      4.052366     61.748232   \n",
       "std        0.473169      1.116097      1.701271      1.646733      1.429639   \n",
       "min        0.200000      1.000000      1.000000      1.000000     43.000000   \n",
       "25%        0.400000      3.000000      3.000000      3.000000     61.000000   \n",
       "50%        0.700000      4.000000      4.000000      4.000000     61.800000   \n",
       "75%        1.040000      5.000000      6.000000      5.000000     62.500000   \n",
       "max        5.010000      5.000000      7.000000      8.000000     79.000000   \n",
       "\n",
       "              table         price     length_mm      width_mm      depth_mm  \n",
       "count  53775.000000  53775.000000  53775.000000  53775.000000  53775.000000  \n",
       "mean      57.457806   3931.220288      5.731579      5.734909      3.539964  \n",
       "std        2.233257   3985.918716      1.118611      1.139451      0.702017  \n",
       "min       43.000000    326.000000      3.730000      3.680000      1.070000  \n",
       "25%       56.000000    951.000000      4.710000      4.720000      2.910000  \n",
       "50%       57.000000   2401.000000      5.700000      5.710000      3.530000  \n",
       "75%       59.000000   5324.000000      6.540000      6.540000      4.030000  \n",
       "max       95.000000  18823.000000     10.740000     58.900000     31.800000  "
      ]
     },
     "execution_count": 11,
     "metadata": {},
     "output_type": "execute_result"
    }
   ],
   "source": [
    "# statistical summary of columns in the DataFrame\n",
    "diamonds_df.describe()"
   ]
  },
  {
   "cell_type": "code",
   "execution_count": 12,
   "id": "e1bba41f",
   "metadata": {
    "execution": {
     "iopub.execute_input": "2023-08-24T21:48:08.205259Z",
     "iopub.status.busy": "2023-08-24T21:48:08.204924Z",
     "iopub.status.idle": "2023-08-24T21:48:08.220603Z",
     "shell.execute_reply": "2023-08-24T21:48:08.219631Z"
    },
    "papermill": {
     "duration": 0.024956,
     "end_time": "2023-08-24T21:48:08.222830",
     "exception": false,
     "start_time": "2023-08-24T21:48:08.197874",
     "status": "completed"
    },
    "tags": []
   },
   "outputs": [
    {
     "data": {
      "text/html": [
       "<div>\n",
       "<style scoped>\n",
       "    .dataframe tbody tr th:only-of-type {\n",
       "        vertical-align: middle;\n",
       "    }\n",
       "\n",
       "    .dataframe tbody tr th {\n",
       "        vertical-align: top;\n",
       "    }\n",
       "\n",
       "    .dataframe thead th {\n",
       "        text-align: right;\n",
       "    }\n",
       "</style>\n",
       "<table border=\"1\" class=\"dataframe\">\n",
       "  <thead>\n",
       "    <tr style=\"text-align: right;\">\n",
       "      <th></th>\n",
       "      <th>carat</th>\n",
       "      <th>cut</th>\n",
       "      <th>color</th>\n",
       "      <th>clarity</th>\n",
       "      <th>depth</th>\n",
       "      <th>table</th>\n",
       "      <th>price</th>\n",
       "      <th>length_mm</th>\n",
       "      <th>width_mm</th>\n",
       "      <th>depth_mm</th>\n",
       "    </tr>\n",
       "  </thead>\n",
       "  <tbody>\n",
       "    <tr>\n",
       "      <th>52064</th>\n",
       "      <td>0.70</td>\n",
       "      <td>3</td>\n",
       "      <td>6</td>\n",
       "      <td>2</td>\n",
       "      <td>62.8</td>\n",
       "      <td>59.0</td>\n",
       "      <td>2453</td>\n",
       "      <td>5.64</td>\n",
       "      <td>5.69</td>\n",
       "      <td>3.56</td>\n",
       "    </tr>\n",
       "    <tr>\n",
       "      <th>4265</th>\n",
       "      <td>0.90</td>\n",
       "      <td>3</td>\n",
       "      <td>4</td>\n",
       "      <td>2</td>\n",
       "      <td>60.9</td>\n",
       "      <td>56.0</td>\n",
       "      <td>3581</td>\n",
       "      <td>6.18</td>\n",
       "      <td>6.24</td>\n",
       "      <td>3.78</td>\n",
       "    </tr>\n",
       "    <tr>\n",
       "      <th>7186</th>\n",
       "      <td>1.15</td>\n",
       "      <td>5</td>\n",
       "      <td>3</td>\n",
       "      <td>2</td>\n",
       "      <td>62.2</td>\n",
       "      <td>57.0</td>\n",
       "      <td>4186</td>\n",
       "      <td>6.68</td>\n",
       "      <td>6.63</td>\n",
       "      <td>4.14</td>\n",
       "    </tr>\n",
       "    <tr>\n",
       "      <th>26668</th>\n",
       "      <td>1.52</td>\n",
       "      <td>5</td>\n",
       "      <td>4</td>\n",
       "      <td>7</td>\n",
       "      <td>61.4</td>\n",
       "      <td>57.0</td>\n",
       "      <td>16492</td>\n",
       "      <td>7.40</td>\n",
       "      <td>7.38</td>\n",
       "      <td>4.54</td>\n",
       "    </tr>\n",
       "    <tr>\n",
       "      <th>27523</th>\n",
       "      <td>2.53</td>\n",
       "      <td>4</td>\n",
       "      <td>3</td>\n",
       "      <td>3</td>\n",
       "      <td>62.1</td>\n",
       "      <td>59.0</td>\n",
       "      <td>18254</td>\n",
       "      <td>8.83</td>\n",
       "      <td>8.73</td>\n",
       "      <td>5.45</td>\n",
       "    </tr>\n",
       "  </tbody>\n",
       "</table>\n",
       "</div>"
      ],
      "text/plain": [
       "       carat  cut  color  clarity  depth  table  price  length_mm  width_mm  \\\n",
       "52064   0.70    3      6        2   62.8   59.0   2453       5.64      5.69   \n",
       "4265    0.90    3      4        2   60.9   56.0   3581       6.18      6.24   \n",
       "7186    1.15    5      3        2   62.2   57.0   4186       6.68      6.63   \n",
       "26668   1.52    5      4        7   61.4   57.0  16492       7.40      7.38   \n",
       "27523   2.53    4      3        3   62.1   59.0  18254       8.83      8.73   \n",
       "\n",
       "       depth_mm  \n",
       "52064      3.56  \n",
       "4265       3.78  \n",
       "7186       4.14  \n",
       "26668      4.54  \n",
       "27523      5.45  "
      ]
     },
     "execution_count": 12,
     "metadata": {},
     "output_type": "execute_result"
    }
   ],
   "source": [
    "diamonds_df.sample(5)"
   ]
  },
  {
   "cell_type": "code",
   "execution_count": 13,
   "id": "e39881ce",
   "metadata": {
    "execution": {
     "iopub.execute_input": "2023-08-24T21:48:08.236781Z",
     "iopub.status.busy": "2023-08-24T21:48:08.236405Z",
     "iopub.status.idle": "2023-08-24T21:48:08.248607Z",
     "shell.execute_reply": "2023-08-24T21:48:08.247108Z"
    },
    "papermill": {
     "duration": 0.021749,
     "end_time": "2023-08-24T21:48:08.250943",
     "exception": false,
     "start_time": "2023-08-24T21:48:08.229194",
     "status": "completed"
    },
    "tags": []
   },
   "outputs": [
    {
     "name": "stdout",
     "output_type": "stream",
     "text": [
      "<class 'pandas.core.frame.DataFrame'>\n",
      "Int64Index: 53775 entries, 1 to 53940\n",
      "Data columns (total 10 columns):\n",
      " #   Column     Non-Null Count  Dtype  \n",
      "---  ------     --------------  -----  \n",
      " 0   carat      53775 non-null  float64\n",
      " 1   cut        53775 non-null  int64  \n",
      " 2   color      53775 non-null  int64  \n",
      " 3   clarity    53775 non-null  int64  \n",
      " 4   depth      53775 non-null  float64\n",
      " 5   table      53775 non-null  float64\n",
      " 6   price      53775 non-null  int64  \n",
      " 7   length_mm  53775 non-null  float64\n",
      " 8   width_mm   53775 non-null  float64\n",
      " 9   depth_mm   53775 non-null  float64\n",
      "dtypes: float64(6), int64(4)\n",
      "memory usage: 4.5 MB\n"
     ]
    }
   ],
   "source": [
    "diamonds_df.info()"
   ]
  },
  {
   "cell_type": "markdown",
   "id": "c9f70c1c",
   "metadata": {
    "papermill": {
     "duration": 0.006757,
     "end_time": "2023-08-24T21:48:08.264182",
     "exception": false,
     "start_time": "2023-08-24T21:48:08.257425",
     "status": "completed"
    },
    "tags": []
   },
   "source": [
    "# Correlation"
   ]
  },
  {
   "cell_type": "code",
   "execution_count": 14,
   "id": "a3443504",
   "metadata": {
    "execution": {
     "iopub.execute_input": "2023-08-24T21:48:08.278818Z",
     "iopub.status.busy": "2023-08-24T21:48:08.278314Z",
     "iopub.status.idle": "2023-08-24T21:48:09.869286Z",
     "shell.execute_reply": "2023-08-24T21:48:09.867219Z"
    },
    "papermill": {
     "duration": 1.601352,
     "end_time": "2023-08-24T21:48:09.872253",
     "exception": false,
     "start_time": "2023-08-24T21:48:08.270901",
     "status": "completed"
    },
    "tags": []
   },
   "outputs": [
    {
     "name": "stderr",
     "output_type": "stream",
     "text": [
      "/opt/conda/lib/python3.10/site-packages/scipy/__init__.py:146: UserWarning: A NumPy version >=1.16.5 and <1.23.0 is required for this version of SciPy (detected version 1.23.5\n",
      "  warnings.warn(f\"A NumPy version >={np_minversion} and <{np_maxversion}\"\n"
     ]
    }
   ],
   "source": [
    "# importing the matplotlib and seaborn libraries\n",
    "import matplotlib.pyplot as plt\n",
    "import seaborn as sns"
   ]
  },
  {
   "cell_type": "code",
   "execution_count": 15,
   "id": "92d14b60",
   "metadata": {
    "execution": {
     "iopub.execute_input": "2023-08-24T21:48:09.889075Z",
     "iopub.status.busy": "2023-08-24T21:48:09.888610Z",
     "iopub.status.idle": "2023-08-24T21:48:10.516512Z",
     "shell.execute_reply": "2023-08-24T21:48:10.515702Z"
    },
    "papermill": {
     "duration": 0.638557,
     "end_time": "2023-08-24T21:48:10.518720",
     "exception": false,
     "start_time": "2023-08-24T21:48:09.880163",
     "status": "completed"
    },
    "tags": []
   },
   "outputs": [
    {
     "data": {
      "text/plain": [
       "<Axes: title={'center': 'Correlation'}>"
      ]
     },
     "execution_count": 15,
     "metadata": {},
     "output_type": "execute_result"
    },
    {
     "data": {
      "image/png": "[encoded data removed]",
      "text/plain": [
       "<Figure size 1000x600 with 2 Axes>"
      ]
     },
     "metadata": {},
     "output_type": "display_data"
    }
   ],
   "source": [
    "# shows correlation between numerical columns in the DataFrame\n",
    "correlation_matrix = diamonds_df.corr()\n",
    "plt.figure(figsize=(10,6))\n",
    "plt.title('Correlation')\n",
    "sns.heatmap(correlation_matrix, annot=True, cmap='coolwarm')"
   ]
  },
  {
   "cell_type": "code",
   "execution_count": 16,
   "id": "0d901328",
   "metadata": {
    "execution": {
     "iopub.execute_input": "2023-08-24T21:48:10.535685Z",
     "iopub.status.busy": "2023-08-24T21:48:10.535326Z",
     "iopub.status.idle": "2023-08-24T21:48:10.539988Z",
     "shell.execute_reply": "2023-08-24T21:48:10.538507Z"
    },
    "papermill": {
     "duration": 0.015876,
     "end_time": "2023-08-24T21:48:10.542306",
     "exception": false,
     "start_time": "2023-08-24T21:48:10.526430",
     "status": "completed"
    },
    "tags": []
   },
   "outputs": [],
   "source": [
    "# From the heatmap above, we notice that the correlation between 'carat','length_mm','width_mm','depth_mm' ,and 'price' is high"
   ]
  },
  {
   "cell_type": "markdown",
   "id": "80a931e4",
   "metadata": {
    "papermill": {
     "duration": 0.007007,
     "end_time": "2023-08-24T21:48:10.557435",
     "exception": false,
     "start_time": "2023-08-24T21:48:10.550428",
     "status": "completed"
    },
    "tags": []
   },
   "source": [
    "# Random Forests"
   ]
  },
  {
   "cell_type": "code",
   "execution_count": 17,
   "id": "1524b44e",
   "metadata": {
    "execution": {
     "iopub.execute_input": "2023-08-24T21:48:10.574253Z",
     "iopub.status.busy": "2023-08-24T21:48:10.573915Z",
     "iopub.status.idle": "2023-08-24T21:48:10.898721Z",
     "shell.execute_reply": "2023-08-24T21:48:10.897405Z"
    },
    "papermill": {
     "duration": 0.335717,
     "end_time": "2023-08-24T21:48:10.900875",
     "exception": false,
     "start_time": "2023-08-24T21:48:10.565158",
     "status": "completed"
    },
    "tags": []
   },
   "outputs": [],
   "source": [
    "# dependent variable\n",
    "y = diamonds_df.price\n",
    "\n",
    "# independent variables\n",
    "features = ['carat','cut','color','clarity','depth','table','length_mm','width_mm','depth_mm']\n",
    "X = diamonds_df[features]\n",
    "\n",
    "from sklearn.model_selection import train_test_split\n",
    "train_X,validation_X, train_y,validation_y = train_test_split(X,y,random_state=0)"
   ]
  },
  {
   "cell_type": "code",
   "execution_count": 18,
   "id": "9c910e0d",
   "metadata": {
    "execution": {
     "iopub.execute_input": "2023-08-24T21:48:10.917574Z",
     "iopub.status.busy": "2023-08-24T21:48:10.917231Z",
     "iopub.status.idle": "2023-08-24T21:48:26.953887Z",
     "shell.execute_reply": "2023-08-24T21:48:26.952635Z"
    },
    "papermill": {
     "duration": 16.047633,
     "end_time": "2023-08-24T21:48:26.956103",
     "exception": false,
     "start_time": "2023-08-24T21:48:10.908470",
     "status": "completed"
    },
    "tags": []
   },
   "outputs": [
    {
     "name": "stdout",
     "output_type": "stream",
     "text": [
      "Mean Absolute Error: 272.5670390739009\n"
     ]
    }
   ],
   "source": [
    "from sklearn.ensemble import RandomForestRegressor\n",
    "from sklearn.metrics import mean_absolute_error\n",
    "\n",
    "forest_model = RandomForestRegressor(random_state=1)\n",
    "forest_model.fit(train_X,train_y)\n",
    "\n",
    "diamonds_pred = forest_model.predict(validation_X)\n",
    "print('Mean Absolute Error:', mean_absolute_error(validation_y,diamonds_pred))"
   ]
  },
  {
   "cell_type": "code",
   "execution_count": 19,
   "id": "6782b849",
   "metadata": {
    "execution": {
     "iopub.execute_input": "2023-08-24T21:48:26.972592Z",
     "iopub.status.busy": "2023-08-24T21:48:26.972267Z",
     "iopub.status.idle": "2023-08-24T21:48:26.984942Z",
     "shell.execute_reply": "2023-08-24T21:48:26.983679Z"
    },
    "papermill": {
     "duration": 0.023514,
     "end_time": "2023-08-24T21:48:26.987189",
     "exception": false,
     "start_time": "2023-08-24T21:48:26.963675",
     "status": "completed"
    },
    "tags": []
   },
   "outputs": [
    {
     "data": {
      "text/html": [
       "<div>\n",
       "<style scoped>\n",
       "    .dataframe tbody tr th:only-of-type {\n",
       "        vertical-align: middle;\n",
       "    }\n",
       "\n",
       "    .dataframe tbody tr th {\n",
       "        vertical-align: top;\n",
       "    }\n",
       "\n",
       "    .dataframe thead th {\n",
       "        text-align: right;\n",
       "    }\n",
       "</style>\n",
       "<table border=\"1\" class=\"dataframe\">\n",
       "  <thead>\n",
       "    <tr style=\"text-align: right;\">\n",
       "      <th></th>\n",
       "      <th>Predicted</th>\n",
       "      <th>Reality</th>\n",
       "    </tr>\n",
       "  </thead>\n",
       "  <tbody>\n",
       "    <tr>\n",
       "      <th>43375</th>\n",
       "      <td>1505.12</td>\n",
       "      <td>1409</td>\n",
       "    </tr>\n",
       "    <tr>\n",
       "      <th>33117</th>\n",
       "      <td>898.23</td>\n",
       "      <td>816</td>\n",
       "    </tr>\n",
       "    <tr>\n",
       "      <th>37565</th>\n",
       "      <td>949.70</td>\n",
       "      <td>988</td>\n",
       "    </tr>\n",
       "    <tr>\n",
       "      <th>19831</th>\n",
       "      <td>8565.67</td>\n",
       "      <td>8398</td>\n",
       "    </tr>\n",
       "    <tr>\n",
       "      <th>29736</th>\n",
       "      <td>728.40</td>\n",
       "      <td>708</td>\n",
       "    </tr>\n",
       "    <tr>\n",
       "      <th>...</th>\n",
       "      <td>...</td>\n",
       "      <td>...</td>\n",
       "    </tr>\n",
       "    <tr>\n",
       "      <th>13489</th>\n",
       "      <td>5565.66</td>\n",
       "      <td>5537</td>\n",
       "    </tr>\n",
       "    <tr>\n",
       "      <th>49298</th>\n",
       "      <td>563.09</td>\n",
       "      <td>539</td>\n",
       "    </tr>\n",
       "    <tr>\n",
       "      <th>17574</th>\n",
       "      <td>6753.96</td>\n",
       "      <td>7076</td>\n",
       "    </tr>\n",
       "    <tr>\n",
       "      <th>6031</th>\n",
       "      <td>592.16</td>\n",
       "      <td>575</td>\n",
       "    </tr>\n",
       "    <tr>\n",
       "      <th>52807</th>\n",
       "      <td>2537.06</td>\n",
       "      <td>2572</td>\n",
       "    </tr>\n",
       "  </tbody>\n",
       "</table>\n",
       "<p>13444 rows × 2 columns</p>\n",
       "</div>"
      ],
      "text/plain": [
       "       Predicted  Reality\n",
       "43375    1505.12     1409\n",
       "33117     898.23      816\n",
       "37565     949.70      988\n",
       "19831    8565.67     8398\n",
       "29736     728.40      708\n",
       "...          ...      ...\n",
       "13489    5565.66     5537\n",
       "49298     563.09      539\n",
       "17574    6753.96     7076\n",
       "6031      592.16      575\n",
       "52807    2537.06     2572\n",
       "\n",
       "[13444 rows x 2 columns]"
      ]
     },
     "execution_count": 19,
     "metadata": {},
     "output_type": "execute_result"
    }
   ],
   "source": [
    "# A DataFrame that displays the results of the actual and predicted price\n",
    "results ={}\n",
    "results['Predicted'] = diamonds_pred.round(2) # rounds up the predicted prices to two decimal places\n",
    "results['Reality'] = validation_y\n",
    "\n",
    "pd.DataFrame.from_dict(results)"
   ]
  },
  {
   "cell_type": "code",
   "execution_count": 20,
   "id": "1a81ec84",
   "metadata": {
    "execution": {
     "iopub.execute_input": "2023-08-24T21:48:27.004596Z",
     "iopub.status.busy": "2023-08-24T21:48:27.004188Z",
     "iopub.status.idle": "2023-08-24T21:48:27.009934Z",
     "shell.execute_reply": "2023-08-24T21:48:27.007985Z"
    },
    "papermill": {
     "duration": 0.017625,
     "end_time": "2023-08-24T21:48:27.012498",
     "exception": false,
     "start_time": "2023-08-24T21:48:26.994873",
     "status": "completed"
    },
    "tags": []
   },
   "outputs": [],
   "source": [
    "# Suggestions on how to improve the model are welcome"
   ]
  }
 ],
 "metadata": {
  "kernelspec": {
   "display_name": "Python 3",
   "language": "python",
   "name": "python3"
  },
  "language_info": {
   "codemirror_mode": {
    "name": "ipython",
    "version": 3
   },
   "file_extension": ".py",
   "mimetype": "text/x-python",
   "name": "python",
   "nbconvert_exporter": "python",
   "pygments_lexer": "ipython3",
   "version": "3.10.12"
  },
  "papermill": {
   "default_parameters": {},
   "duration": 29.51222,
   "end_time": "2023-08-24T21:48:28.045040",
   "environment_variables": {},
   "exception": null,
   "input_path": "__notebook__.ipynb",
   "output_path": "__notebook__.ipynb",
   "parameters": {},
   "start_time": "2023-08-24T21:47:58.532820",
   "version": "2.4.0"
  }
 },
 "nbformat": 4,
 "nbformat_minor": 5
}
